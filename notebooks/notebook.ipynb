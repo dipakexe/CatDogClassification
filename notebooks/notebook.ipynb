{
  "cells": [
    {
      "cell_type": "markdown",
      "metadata": {
        "id": "view-in-github",
        "colab_type": "text"
      },
      "source": [
        "<a href=\"https://colab.research.google.com/github/dipakexe/CatDogClassification/blob/main/notebooks/notebook.ipynb\" target=\"_parent\"><img src=\"https://colab.research.google.com/assets/colab-badge.svg\" alt=\"Open In Colab\"/></a>"
      ]
    },
    {
      "cell_type": "markdown",
      "source": [
        "## Data Collection"
      ],
      "metadata": {
        "id": "w23kDZW3NeMB"
      }
    },
    {
      "cell_type": "code",
      "source": [
        "import os\n",
        "from google.colab import drive\n",
        "\n",
        "drive.mount('/content/drive', force_remount=True)\n",
        "os.environ['KAGGLE_CONFIG_DIR'] = os.path.dirname('/content/drive/MyDrive/Colab Notebooks/kaggle.json')"
      ],
      "metadata": {
        "id": "XvX3DYpSJgJT",
        "outputId": "8d9b9537-fd60-436a-b7ce-32da90784df8",
        "colab": {
          "base_uri": "https://localhost:8080/"
        }
      },
      "execution_count": 4,
      "outputs": [
        {
          "output_type": "stream",
          "name": "stdout",
          "text": [
            "Mounted at /content/drive\n"
          ]
        }
      ]
    },
    {
      "cell_type": "code",
      "source": [
        "!kaggle competitions download -c dogs-vs-cats"
      ],
      "metadata": {
        "id": "COdXlA97JwVc",
        "outputId": "5ec7db12-a73b-4c06-9df0-51f14a1cda6a",
        "colab": {
          "base_uri": "https://localhost:8080/"
        }
      },
      "execution_count": 5,
      "outputs": [
        {
          "output_type": "stream",
          "name": "stdout",
          "text": [
            "Downloading dogs-vs-cats.zip to /content\n",
            "100% 810M/812M [00:08<00:00, 173MB/s]\n",
            "100% 812M/812M [00:08<00:00, 96.3MB/s]\n"
          ]
        }
      ]
    },
    {
      "cell_type": "code",
      "source": [
        "!mkdir -p data/\n",
        "!unzip dogs-vs-cats.zip -d data/"
      ],
      "metadata": {
        "id": "hn_v18zuKKPj",
        "outputId": "eb4d7150-c640-42f8-b379-22728ecece8f",
        "colab": {
          "base_uri": "https://localhost:8080/"
        }
      },
      "execution_count": 6,
      "outputs": [
        {
          "output_type": "stream",
          "name": "stdout",
          "text": [
            "Archive:  dogs-vs-cats.zip\n",
            "  inflating: data/sampleSubmission.csv  \n",
            "  inflating: data/test1.zip          \n",
            "  inflating: data/train.zip          \n"
          ]
        }
      ]
    },
    {
      "cell_type": "code",
      "source": [
        "!mkdir -p data/test/\n",
        "!mkdir -p data/train/\n",
        "!unzip -q data/test1.zip -d data/test/\n",
        "!unzip -q data/train.zip -d data/train/"
      ],
      "metadata": {
        "id": "9a-zlOMlKVW_",
        "outputId": "5d706ac8-5af7-4b88-b0aa-11069aa62a3e",
        "colab": {
          "base_uri": "https://localhost:8080/"
        }
      },
      "execution_count": 35,
      "outputs": [
        {
          "output_type": "stream",
          "name": "stdout",
          "text": [
            "replace data/test/test1/1.jpg? [y]es, [n]o, [A]ll, [N]one, [r]ename: y\n",
            "replace data/test/test1/10.jpg? [y]es, [n]o, [A]ll, [N]one, [r]ename: y\n",
            "replace data/test/test1/100.jpg? [y]es, [n]o, [A]ll, [N]one, [r]ename: A\n"
          ]
        }
      ]
    },
    {
      "cell_type": "code",
      "source": [
        "!mkdir -p dataset/\n",
        "!mkdir -p dataset/train/cat/\n",
        "!mkdir -p dataset/train/dog/\n",
        "\n",
        "\n",
        "!mv data/train/cat.** data/train/cat/\n",
        "!mv data/train/dog.** data/train/dog/"
      ],
      "metadata": {
        "id": "FKg14jtxPzOm",
        "outputId": "60c229fe-d2eb-4b79-fa71-640d00b5b77d",
        "colab": {
          "base_uri": "https://localhost:8080/"
        }
      },
      "execution_count": 40,
      "outputs": [
        {
          "output_type": "stream",
          "name": "stdout",
          "text": [
            "mv: cannot stat 'data/train/cat.**': No such file or directory\n",
            "mv: cannot stat 'data/train/dog.**': No such file or directory\n"
          ]
        }
      ]
    },
    {
      "cell_type": "markdown",
      "source": [
        "## Data Preprocessing"
      ],
      "metadata": {
        "id": "E-TnNXSPNgty"
      }
    },
    {
      "cell_type": "markdown",
      "source": [
        "### Data(Image) Augmentation"
      ],
      "metadata": {
        "id": "Sp-5rpFUOkW2"
      }
    },
    {
      "cell_type": "code",
      "source": [
        "from tensorflow.keras.preprocessing.image import ImageDataGenerator"
      ],
      "metadata": {
        "id": "QQvvrowqNjGv"
      },
      "execution_count": 27,
      "outputs": []
    },
    {
      "cell_type": "code",
      "source": [
        "train_data_generator = ImageDataGenerator(rescale=1/255.0)\n",
        "test_data_generator = ImageDataGenerator(rescale=1/255.0)"
      ],
      "metadata": {
        "id": "5vBfeajGOCiv"
      },
      "execution_count": 36,
      "outputs": []
    },
    {
      "cell_type": "code",
      "source": [
        "train_dataset = train_data_generator.flow_from_directory(\"/content/data/train/\")\n",
        "test_dataset = test_data_generator.flow_from_directory(\"/content/data/test/\")"
      ],
      "metadata": {
        "id": "giVag3stOs3C",
        "outputId": "8552d75f-43b8-4533-bfaf-403adffed6d4",
        "colab": {
          "base_uri": "https://localhost:8080/"
        }
      },
      "execution_count": 38,
      "outputs": [
        {
          "output_type": "stream",
          "name": "stdout",
          "text": [
            "Found 25000 images belonging to 1 classes.\n",
            "Found 12500 images belonging to 1 classes.\n"
          ]
        }
      ]
    },
    {
      "cell_type": "markdown",
      "source": [
        "## Model Building"
      ],
      "metadata": {
        "id": "66PnZ1foNbe7"
      }
    },
    {
      "cell_type": "code",
      "source": [
        "import tensorflow as tf\n",
        "\n",
        "clf = tf.keras.models.Sequential()\n",
        "clf.add(tf.keras.layers.Input(shape=(256, 256, 3)))\n",
        "clf.add(tf.keras.layers.Conv2D(32, kernel_size=3, activation=\"relu\"))\n",
        "clf.add(tf.keras.layers.MaxPool2D())\n",
        "clf.add(tf.keras.layers.Conv2D(64, kernel_size=3, activation=\"relu\"))\n",
        "clf.add(tf.keras.layers.MaxPool2D())\n",
        "clf.add(tf.keras.layers.Flatten())\n",
        "clf.add(tf.keras.layers.Dense(100))\n",
        "clf.add(tf.keras.layers.Dense(2))\n",
        "\n",
        "clf.summary()"
      ],
      "metadata": {
        "id": "JjolCxVRKrJI",
        "outputId": "a23cee55-e6c8-4424-ce18-3f93886bc87b",
        "colab": {
          "base_uri": "https://localhost:8080/"
        }
      },
      "execution_count": 23,
      "outputs": [
        {
          "output_type": "stream",
          "name": "stdout",
          "text": [
            "Model: \"sequential_14\"\n",
            "_________________________________________________________________\n",
            " Layer (type)                Output Shape              Param #   \n",
            "=================================================================\n",
            " conv2d_14 (Conv2D)          (None, 254, 254, 32)      896       \n",
            "                                                                 \n",
            " max_pooling2d_7 (MaxPoolin  (None, 127, 127, 32)      0         \n",
            " g2D)                                                            \n",
            "                                                                 \n",
            " conv2d_15 (Conv2D)          (None, 125, 125, 64)      18496     \n",
            "                                                                 \n",
            " max_pooling2d_8 (MaxPoolin  (None, 62, 62, 64)        0         \n",
            " g2D)                                                            \n",
            "                                                                 \n",
            " flatten_6 (Flatten)         (None, 246016)            0         \n",
            "                                                                 \n",
            " dense_14 (Dense)            (None, 100)               24601700  \n",
            "                                                                 \n",
            " dense_15 (Dense)            (None, 2)                 202       \n",
            "                                                                 \n",
            "=================================================================\n",
            "Total params: 24621294 (93.92 MB)\n",
            "Trainable params: 24621294 (93.92 MB)\n",
            "Non-trainable params: 0 (0.00 Byte)\n",
            "_________________________________________________________________\n"
          ]
        }
      ]
    },
    {
      "cell_type": "code",
      "source": [],
      "metadata": {
        "id": "52EChxnwLNh2"
      },
      "execution_count": null,
      "outputs": []
    }
  ],
  "metadata": {
    "language_info": {
      "name": "python"
    },
    "colab": {
      "provenance": [],
      "include_colab_link": true
    },
    "kernelspec": {
      "name": "python3",
      "display_name": "Python 3"
    }
  },
  "nbformat": 4,
  "nbformat_minor": 0
}